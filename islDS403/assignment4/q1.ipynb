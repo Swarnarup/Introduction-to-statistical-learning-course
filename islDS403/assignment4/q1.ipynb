{
 "cells": [
  {
   "cell_type": "code",
   "execution_count": 1,
   "metadata": {},
   "outputs": [],
   "source": [
    "import pandas as pd\n",
    "import numpy as np\n",
    "import matplotlib.pyplot as plt"
   ]
  },
  {
   "cell_type": "markdown",
   "metadata": {},
   "source": [
    "#### Formatting Data and plotting"
   ]
  },
  {
   "cell_type": "code",
   "execution_count": 3,
   "metadata": {},
   "outputs": [
    {
     "data": {
      "text/html": [
       "<div>\n",
       "<style scoped>\n",
       "    .dataframe tbody tr th:only-of-type {\n",
       "        vertical-align: middle;\n",
       "    }\n",
       "\n",
       "    .dataframe tbody tr th {\n",
       "        vertical-align: top;\n",
       "    }\n",
       "\n",
       "    .dataframe thead th {\n",
       "        text-align: right;\n",
       "    }\n",
       "</style>\n",
       "<table border=\"1\" class=\"dataframe\">\n",
       "  <thead>\n",
       "    <tr style=\"text-align: right;\">\n",
       "      <th></th>\n",
       "      <th>D,X1,X2,X3,X4,X5,X6</th>\n",
       "    </tr>\n",
       "  </thead>\n",
       "  <tbody>\n",
       "    <tr>\n",
       "      <th>0</th>\n",
       "      <td>0,3,3,3,4,2,4</td>\n",
       "    </tr>\n",
       "    <tr>\n",
       "      <th>1</th>\n",
       "      <td>0,3,2,3,5,4,3</td>\n",
       "    </tr>\n",
       "    <tr>\n",
       "      <th>2</th>\n",
       "      <td>1,5,3,3,3,3,5</td>\n",
       "    </tr>\n",
       "    <tr>\n",
       "      <th>3</th>\n",
       "      <td>0,5,4,3,3,3,5</td>\n",
       "    </tr>\n",
       "    <tr>\n",
       "      <th>4</th>\n",
       "      <td>0,5,4,3,3,3,5</td>\n",
       "    </tr>\n",
       "    <tr>\n",
       "      <th>...</th>\n",
       "      <td>...</td>\n",
       "    </tr>\n",
       "    <tr>\n",
       "      <th>124</th>\n",
       "      <td>1,5,2,4,4,2,3</td>\n",
       "    </tr>\n",
       "    <tr>\n",
       "      <th>125</th>\n",
       "      <td>0,5,3,3,4,4,5</td>\n",
       "    </tr>\n",
       "    <tr>\n",
       "      <th>126</th>\n",
       "      <td>0,5,3,3,4,4,4</td>\n",
       "    </tr>\n",
       "    <tr>\n",
       "      <th>127</th>\n",
       "      <td>0,3,2,3,3,5,4</td>\n",
       "    </tr>\n",
       "    <tr>\n",
       "      <th>128</th>\n",
       "      <td>0,4,1,3,3,3,4</td>\n",
       "    </tr>\n",
       "  </tbody>\n",
       "</table>\n",
       "<p>129 rows × 1 columns</p>\n",
       "</div>"
      ],
      "text/plain": [
       "    D,X1,X2,X3,X4,X5,X6\n",
       "0         0,3,3,3,4,2,4\n",
       "1         0,3,2,3,5,4,3\n",
       "2         1,5,3,3,3,3,5\n",
       "3         0,5,4,3,3,3,5\n",
       "4         0,5,4,3,3,3,5\n",
       "..                  ...\n",
       "124       1,5,2,4,4,2,3\n",
       "125       0,5,3,3,4,4,5\n",
       "126       0,5,3,3,4,4,4\n",
       "127       0,3,2,3,3,5,4\n",
       "128       0,4,1,3,3,3,4\n",
       "\n",
       "[129 rows x 1 columns]"
      ]
     },
     "execution_count": 3,
     "metadata": {},
     "output_type": "execute_result"
    }
   ],
   "source": [
    "df = pd.read_csv(\"data2_19.csv\")\n",
    "df"
   ]
  },
  {
   "cell_type": "code",
   "execution_count": 4,
   "metadata": {},
   "outputs": [],
   "source": [
    "data = pd.DataFrame()\n",
    "data[\"y\"]=[int(df[\"D,X1,X2,X3,X4,X5,X6\"][i][0]) for i in range(len(df[\"D,X1,X2,X3,X4,X5,X6\"]))]\n",
    "data[\"x1\"]=[int(df[\"D,X1,X2,X3,X4,X5,X6\"][i][2]) for i in range(len(df[\"D,X1,X2,X3,X4,X5,X6\"]))]\n",
    "data[\"x2\"]=[int(df[\"D,X1,X2,X3,X4,X5,X6\"][i][4]) for i in range(len(df[\"D,X1,X2,X3,X4,X5,X6\"]))]\n",
    "data[\"x3\"]=[int(df[\"D,X1,X2,X3,X4,X5,X6\"][i][6]) for i in range(len(df[\"D,X1,X2,X3,X4,X5,X6\"]))]\n",
    "data[\"x4\"]=[int(df[\"D,X1,X2,X3,X4,X5,X6\"][i][8]) for i in range(len(df[\"D,X1,X2,X3,X4,X5,X6\"]))]\n",
    "data[\"x5\"]=[int(df[\"D,X1,X2,X3,X4,X5,X6\"][i][10]) for i in range(len(df[\"D,X1,X2,X3,X4,X5,X6\"]))]\n",
    "data[\"x6\"]=[int(df[\"D,X1,X2,X3,X4,X5,X6\"][i][12]) for i in range(len(df[\"D,X1,X2,X3,X4,X5,X6\"]))]"
   ]
  },
  {
   "cell_type": "code",
   "execution_count": 5,
   "metadata": {},
   "outputs": [
    {
     "data": {
      "text/plain": [
       "array([[<Axes: title={'center': 'y'}>, <Axes: title={'center': 'x1'}>,\n",
       "        <Axes: title={'center': 'x2'}>],\n",
       "       [<Axes: title={'center': 'x3'}>, <Axes: title={'center': 'x4'}>,\n",
       "        <Axes: title={'center': 'x5'}>],\n",
       "       [<Axes: title={'center': 'x6'}>, <Axes: >, <Axes: >]], dtype=object)"
      ]
     },
     "execution_count": 5,
     "metadata": {},
     "output_type": "execute_result"
    },
    {
     "data": {
      "image/png": "[encoded data removed]",
      "text/plain": [
       "<Figure size 640x480 with 9 Axes>"
      ]
     },
     "metadata": {},
     "output_type": "display_data"
    }
   ],
   "source": [
    "data.hist()"
   ]
  },
  {
   "cell_type": "markdown",
   "metadata": {},
   "source": [
    "#### Calculating _Prior Probability_ and Creating function for predicting on test data"
   ]
  },
  {
   "cell_type": "code",
   "execution_count": 6,
   "metadata": {},
   "outputs": [
    {
     "name": "stdout",
     "output_type": "stream",
     "text": [
      "0.4573643410852713   0.5426356589147286\n"
     ]
    }
   ],
   "source": [
    "count_0 = len(data[data[\"y\"]==0])/len(data)\n",
    "count_1 = len(data[data[\"y\"]==1])/len(data)\n",
    "print(count_0,\" \",count_1)"
   ]
  },
  {
   "cell_type": "code",
   "execution_count": 7,
   "metadata": {},
   "outputs": [],
   "source": [
    "##  for predicting, simply counting values from data (training data) and multiplying with prior probability\n",
    "\n",
    "cols = list(data.columns)\n",
    "def predict(x):\n",
    "\n",
    "    data_0 = data[data[\"y\"]==0]\n",
    "    data_1 = data[data[\"y\"]==1]\n",
    "    cnt_0 = len(data_0)\n",
    "    cnt_1 = len(data_1)\n",
    "\n",
    "    post_0=count_0\n",
    "    for i in range(6):\n",
    "        post_0 *= len(data_0[data_0[cols[i+1]]==x[i]])/cnt_0\n",
    "    \n",
    "    post_1=count_1\n",
    "    for i in range(6):\n",
    "        post_1 *= len(data_1[data_1[cols[i+1]]==x[i]])/cnt_1\n",
    "\n",
    "    print(post_0,post_1)\n",
    "    if post_0>post_1:\n",
    "        return 0\n",
    "    else:\n",
    "        return 1\n",
    "    "
   ]
  },
  {
   "cell_type": "code",
   "execution_count": 8,
   "metadata": {},
   "outputs": [],
   "source": [
    "df_test = pd.read_csv(\"test2_19.csv\")\n",
    "\n",
    "test = pd.DataFrame()\n",
    "test[\"y\"]=pd.DataFrame([int(df_test[\"D,X1,X2,X3,X4,X5,X6\"][i][0]) for i in range(len(df_test[\"D,X1,X2,X3,X4,X5,X6\"]))])\n",
    "test[\"x1\"]=pd.DataFrame([int(df_test[\"D,X1,X2,X3,X4,X5,X6\"][i][2]) for i in range(len(df_test[\"D,X1,X2,X3,X4,X5,X6\"]))])\n",
    "test[\"x2\"]=pd.DataFrame([int(df_test[\"D,X1,X2,X3,X4,X5,X6\"][i][4]) for i in range(len(df_test[\"D,X1,X2,X3,X4,X5,X6\"]))])\n",
    "test[\"x3\"]=pd.DataFrame([int(df_test[\"D,X1,X2,X3,X4,X5,X6\"][i][6]) for i in range(len(df_test[\"D,X1,X2,X3,X4,X5,X6\"]))])\n",
    "test[\"x4\"]=pd.DataFrame([int(df_test[\"D,X1,X2,X3,X4,X5,X6\"][i][8]) for i in range(len(df_test[\"D,X1,X2,X3,X4,X5,X6\"]))])\n",
    "test[\"x5\"]=pd.DataFrame([int(df_test[\"D,X1,X2,X3,X4,X5,X6\"][i][10]) for i in range(len(df_test[\"D,X1,X2,X3,X4,X5,X6\"]))])\n",
    "test[\"x6\"]=pd.DataFrame([int(df_test[\"D,X1,X2,X3,X4,X5,X6\"][i][12]) for i in range(len(df_test[\"D,X1,X2,X3,X4,X5,X6\"]))])\n",
    "\n",
    "test = test.values"
   ]
  },
  {
   "cell_type": "code",
   "execution_count": 9,
   "metadata": {},
   "outputs": [
    {
     "name": "stdout",
     "output_type": "stream",
     "text": [
      "0.00019544466418378617 0.0021564104657389436\n",
      "0.00014187834881489666 0.0014306954051537216\n",
      "4.7380524650614827e-05 0.0010136972274841184\n",
      "1.1242042428222995e-05 4.339277239134857e-07\n",
      "1.6921615946648154e-05 0.00027953469000319635\n",
      "0.0018394791923179877 0.0011506833393062964\n",
      "0.0 0.0\n",
      "4.0986613019562985e-05 2.3910303154416544e-06\n",
      "0.0006485867374395275 0.0005370478247574031\n",
      "0.0 4.6461122926355436e-05\n",
      "0.00028191412167115825 0.0010597743741879422\n",
      "0.0008860158109664974 0.0038013646030654446\n",
      "0.0013029644278919079 0.0015205458412261774\n",
      "2.84283147903689e-05 0.00042575283554332973\n"
     ]
    }
   ],
   "source": [
    "l_pred=[]\n",
    "l_actual=[]\n",
    "for i in test:\n",
    "    l_pred.append(predict(i[1:]))\n",
    "    l_actual.append(i[0])"
   ]
  },
  {
   "cell_type": "markdown",
   "metadata": {},
   "source": [
    "#### Test Result"
   ]
  },
  {
   "cell_type": "code",
   "execution_count": 10,
   "metadata": {},
   "outputs": [
    {
     "data": {
      "text/plain": [
       "[<matplotlib.lines.Line2D at 0x1f88b5006a0>]"
      ]
     },
     "execution_count": 10,
     "metadata": {},
     "output_type": "execute_result"
    },
    {
     "data": {
      "image/png": "[encoded data removed]",
      "text/plain": [
       "<Figure size 640x480 with 1 Axes>"
      ]
     },
     "metadata": {},
     "output_type": "display_data"
    }
   ],
   "source": [
    "plt.plot([i for  i in range(len(l_pred))], l_pred)\n",
    "plt.plot([i for  i in range(len(l_pred))], l_actual)"
   ]
  },
  {
   "cell_type": "code",
   "execution_count": 13,
   "metadata": {},
   "outputs": [
    {
     "name": "stdout",
     "output_type": "stream",
     "text": [
      "[0, 0, 0, 1, 1, 1, 1, 0, 1, 0, 1, 1, 0, 0]\n",
      "[1, 1, 1, 0, 1, 0, 1, 0, 0, 1, 1, 1, 1, 1]\n",
      "confusion_matrix :\n",
      "[[1 6]\n",
      " [3 4]]\n"
     ]
    }
   ],
   "source": [
    "print(l_actual)\n",
    "print(l_pred)\n",
    "\n",
    "from sklearn.metrics import confusion_matrix\n",
    "print(\"confusion_matrix :\")\n",
    "print(confusion_matrix(l_actual, l_pred))"
   ]
  },
  {
   "cell_type": "code",
   "execution_count": null,
   "metadata": {},
   "outputs": [],
   "source": []
  }
 ],
 "metadata": {
  "kernelspec": {
   "display_name": "Python 3",
   "language": "python",
   "name": "python3"
  },
  "language_info": {
   "codemirror_mode": {
    "name": "ipython",
    "version": 3
   },
   "file_extension": ".py",
   "mimetype": "text/x-python",
   "name": "python",
   "nbconvert_exporter": "python",
   "pygments_lexer": "ipython3",
   "version": "3.10.8"
  }
 },
 "nbformat": 4,
 "nbformat_minor": 2
}
